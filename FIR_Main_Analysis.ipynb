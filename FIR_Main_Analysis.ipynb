{
 "cells": [
  {
   "cell_type": "code",
   "execution_count": null,
   "metadata": {
    "ExecuteTime": {
     "end_time": "2020-07-27T20:33:48.118681Z",
     "start_time": "2020-07-27T20:33:48.081400Z"
    }
   },
   "outputs": [],
   "source": [
    "https://assets.publishing.service.gov.uk/government/uploads/system/uploads/attachment_data/file/788838/Homelessness_Models.pdf\n",
    "    \n",
    "Standard Score. The standard score (more commonly referred to as a z-score) \n",
    "is a very useful statistic because it (a) allows us to calculate the probability\n",
    "of a score occurring within our normal distribution and (b) enables us to compare \n",
    "two scores that are from different normal distributions.\n",
    "\n",
    "\n",
    "Comparing Z scores, who did relatively better!\n",
    "The t test (also called Student’s T Test) compares two averages (means) and \n",
    "tells you if they are different from each other. \n",
    "The t test also tells you how significant the differences are; \n",
    "In other words it lets you know if those differences could have happened by chance.\n",
    "\n",
    "https://papers.ssrn.com/sol3/papers.cfm?abstract_id=3154788"
   ]
  },
  {
   "cell_type": "code",
   "execution_count": 67,
   "metadata": {
    "ExecuteTime": {
     "end_time": "2020-08-19T10:18:33.176491Z",
     "start_time": "2020-08-19T10:18:33.167923Z"
    }
   },
   "outputs": [
    {
     "name": "stdout",
     "output_type": "stream",
     "text": [
      "1\n"
     ]
    }
   ],
   "source": [
    "To-do:\n",
    "- examples of \"apparently objective output\" use SAT or LSAT score example and some others.\n",
    "- Remove \"ZFYA\" from the alalyse feature dropdown,\n",
    "- Move the description of \" \" to 'watch out for'\n",
    "- Change the format of the \"In your opinion should this data be used if the objective is to train an ML model which will reflect the selected worldview for 'race'?\"\n",
    "- Add another free text box to the very end of report?\n",
    "- add info to the \"watch out for\" button in the intentional proxy box. \n",
    "- Add the data frame html to the file\n",
    "\n"
   ]
  },
  {
   "cell_type": "code",
   "execution_count": 215,
   "metadata": {
    "ExecuteTime": {
     "end_time": "2020-08-19T21:33:44.749036Z",
     "start_time": "2020-08-19T21:33:43.540145Z"
    },
    "scrolled": true
   },
   "outputs": [
    {
     "data": {
      "application/javascript": [
       "IPython.OutputArea.prototype._should_scroll = function(lines) {\n",
       "    return false;\n",
       "}\n"
      ],
      "text/plain": [
       "<IPython.core.display.Javascript object>"
      ]
     },
     "metadata": {},
     "output_type": "display_data"
    },
    {
     "data": {
      "application/javascript": [
       "IPython.notebook.set_autosave_interval(1000000)"
      ]
     },
     "metadata": {},
     "output_type": "display_data"
    },
    {
     "name": "stdout",
     "output_type": "stream",
     "text": [
      "Autosaving every 1000 seconds\n"
     ]
    },
    {
     "data": {
      "text/html": [
       "<style>\n",
       ".box_style{\n",
       "    width:40%;\n",
       "    border : 2px solid red;\n",
       "    height: auto;\n",
       "    background-color:#34abeb;\n",
       "}\n",
       ".title_style{\n",
       "    width:40%;\n",
       "    border : 2px solid red;\n",
       "    height: auto;\n",
       "    background-color:green;\n",
       "}\n",
       "</style>\n"
      ],
      "text/plain": [
       "<IPython.core.display.HTML object>"
      ]
     },
     "metadata": {},
     "output_type": "display_data"
    }
   ],
   "source": [
    "%run ./FIR_Helper_Methods.ipynb\n",
    "%run ./FIR_pre-process_data.ipynb\n",
    "# import plotly.io as pio\n",
    "# pio.renderers.default = 'iframe'\n",
    "# http://homework.uoregon.edu/pub/class/es202/ztest.html#:~:text=Ultimately%2C%20the%20purpose%20of%20this,significantly%20different%20from%20one%20another.&text=Remember%2C%20statistically%20significant%20differences%20mean,that%20produce%20the%20other%20distribution.\n",
    "# https://towardsdatascience.com/hypothesis-testing-in-machine-learning-using-python-a0dc89e169ce"
   ]
  },
  {
   "cell_type": "markdown",
   "metadata": {},
   "source": [
    "# Audit and Transform the data for training"
   ]
  },
  {
   "cell_type": "code",
   "execution_count": 216,
   "metadata": {
    "ExecuteTime": {
     "end_time": "2020-08-19T21:33:50.863475Z",
     "start_time": "2020-08-19T21:33:46.256836Z"
    },
    "scrolled": false
   },
   "outputs": [
    {
     "data": {
      "application/vnd.jupyter.widget-view+json": {
       "model_id": "61083a4601474613a7597564c197b5e7",
       "version_major": 2,
       "version_minor": 0
      },
      "text/plain": [
       "Box(children=(HTML(value='\\n            <font style=\"font-family:sans-serif; font-size:15px;color:white;\">\\n  …"
      ]
     },
     "metadata": {},
     "output_type": "display_data"
    },
    {
     "data": {
      "application/vnd.jupyter.widget-view+json": {
       "model_id": "87284aa9f9b74ce2b98bd5acadb4b819",
       "version_major": 2,
       "version_minor": 0
      },
      "text/plain": [
       "Box(children=(HTML(value='\\n            <font style=\"font-family:sans-serif; font-size:15px;color:black;\">\\n  …"
      ]
     },
     "metadata": {},
     "output_type": "display_data"
    },
    {
     "data": {
      "application/vnd.jupyter.widget-view+json": {
       "model_id": "4f7abf6f1fbf498d9ccda522c87acd66",
       "version_major": 2,
       "version_minor": 0
      },
      "text/plain": [
       "GridBox(children=(HTML(value='<h3><left>Upload the data file to be used to train/test/validate your ML model :…"
      ]
     },
     "metadata": {},
     "output_type": "display_data"
    },
    {
     "data": {
      "application/vnd.jupyter.widget-view+json": {
       "model_id": "16805231e0b342cd9d8eb968ecdb7aed",
       "version_major": 2,
       "version_minor": 0
      },
      "text/plain": [
       "GridBox(children=(FileUpload(value={}, accept='.csv', button_style='success', description='Upload', layout=Lay…"
      ]
     },
     "metadata": {},
     "output_type": "display_data"
    },
    {
     "data": {
      "application/vnd.jupyter.widget-view+json": {
       "model_id": "28ff639b945743989fe2c27aedda06af",
       "version_major": 2,
       "version_minor": 0
      },
      "text/plain": [
       "Label(value='  ', layout=Layout(width='100%'))"
      ]
     },
     "metadata": {},
     "output_type": "display_data"
    },
    {
     "data": {
      "application/vnd.jupyter.widget-view+json": {
       "model_id": "bffdb0f783de44d4ad8346bd66307c8d",
       "version_major": 2,
       "version_minor": 0
      },
      "text/plain": [
       "GridBox(children=(HTML(value='<h3><left>Select the target (y):</left></h3> '),), layout=Layout(width='90%'))"
      ]
     },
     "metadata": {},
     "output_type": "display_data"
    },
    {
     "data": {
      "application/vnd.jupyter.widget-view+json": {
       "model_id": "38f3f120d13f4c4e912e5d9b19b790db",
       "version_major": 2,
       "version_minor": 0
      },
      "text/plain": [
       "GridBox(children=(HTML(value='\\n            <font style=\"font-family:sans-serif; font-size:15px;color:grey;\">\\…"
      ]
     },
     "metadata": {},
     "output_type": "display_data"
    },
    {
     "data": {
      "application/vnd.jupyter.widget-view+json": {
       "model_id": "28ff639b945743989fe2c27aedda06af",
       "version_major": 2,
       "version_minor": 0
      },
      "text/plain": [
       "Label(value='  ', layout=Layout(width='100%'))"
      ]
     },
     "metadata": {},
     "output_type": "display_data"
    },
    {
     "data": {
      "application/vnd.jupyter.widget-view+json": {
       "model_id": "7c18cd0ae0114f39b147000fcd815d50",
       "version_major": 2,
       "version_minor": 0
      },
      "text/plain": [
       "GridBox(children=(HTML(value='<h3><left>Reflect upon the impact the prediction will have on an individual:</le…"
      ]
     },
     "metadata": {},
     "output_type": "display_data"
    },
    {
     "data": {
      "application/vnd.jupyter.widget-view+json": {
       "model_id": "5c078d62a55041fb8008c71a988a310a",
       "version_major": 2,
       "version_minor": 0
      },
      "text/plain": [
       "GridBox(children=(RadioButtons(description='A prediction in the high range (or binary 1) will have:', layout=L…"
      ]
     },
     "metadata": {},
     "output_type": "display_data"
    },
    {
     "data": {
      "application/vnd.jupyter.widget-view+json": {
       "model_id": "28ff639b945743989fe2c27aedda06af",
       "version_major": 2,
       "version_minor": 0
      },
      "text/plain": [
       "Label(value='  ', layout=Layout(width='100%'))"
      ]
     },
     "metadata": {},
     "output_type": "display_data"
    },
    {
     "data": {
      "application/vnd.jupyter.widget-view+json": {
       "model_id": "0f98368517f74ed58f7a25f2d641b167",
       "version_major": 2,
       "version_minor": 0
      },
      "text/plain": [
       "GridBox(children=(HTML(value='<h3><left>Reflect upon the relationship between the target (y) and the ground-tr…"
      ]
     },
     "metadata": {},
     "output_type": "display_data"
    },
    {
     "data": {
      "application/vnd.jupyter.widget-view+json": {
       "model_id": "1e1ea803e1684a66ade65bf2eaa9b3e1",
       "version_major": 2,
       "version_minor": 0
      },
      "text/plain": [
       "GridBox(children=(RadioButtons(description='The target (y) is:', layout=Layout(grid_area='top', width='auto'),…"
      ]
     },
     "metadata": {},
     "output_type": "display_data"
    },
    {
     "data": {
      "application/vnd.jupyter.widget-view+json": {
       "model_id": "28ff639b945743989fe2c27aedda06af",
       "version_major": 2,
       "version_minor": 0
      },
      "text/plain": [
       "Label(value='  ', layout=Layout(width='100%'))"
      ]
     },
     "metadata": {},
     "output_type": "display_data"
    },
    {
     "data": {
      "application/vnd.jupyter.widget-view+json": {
       "model_id": "49c879956c4c479a8a2fee2f22ec641f",
       "version_major": 2,
       "version_minor": 0
      },
      "text/plain": [
       "HTML(value='\\n            <h3><left>Select possible Input features and Protected features:</left></h3>')"
      ]
     },
     "metadata": {},
     "output_type": "display_data"
    },
    {
     "data": {
      "application/vnd.jupyter.widget-view+json": {
       "model_id": "00988d9aa90b43e78168eb8ed7070d5b",
       "version_major": 2,
       "version_minor": 0
      },
      "text/plain": [
       "GridBox(children=(GridBox(children=(HTML(value='\\n            <font style=\"font-family:sans-serif; font-size:1…"
      ]
     },
     "metadata": {},
     "output_type": "display_data"
    },
    {
     "data": {
      "application/vnd.jupyter.widget-view+json": {
       "model_id": "28ff639b945743989fe2c27aedda06af",
       "version_major": 2,
       "version_minor": 0
      },
      "text/plain": [
       "Label(value='  ', layout=Layout(width='100%'))"
      ]
     },
     "metadata": {},
     "output_type": "display_data"
    },
    {
     "data": {
      "application/vnd.jupyter.widget-view+json": {
       "model_id": "4c7585242c7a48b18f82499c8cc88f8e",
       "version_major": 2,
       "version_minor": 0
      },
      "text/plain": [
       "HTML(value='<h3><left>Review and handle missing data:</left></h3> ')"
      ]
     },
     "metadata": {},
     "output_type": "display_data"
    },
    {
     "data": {
      "application/vnd.jupyter.widget-view+json": {
       "model_id": "a95cf7ebc9a243c6b206253b89921eaf",
       "version_major": 2,
       "version_minor": 0
      },
      "text/plain": [
       "GridBox(children=(Button(button_style='success', description='Run missing data analysis', layout=Layout(grid_a…"
      ]
     },
     "metadata": {},
     "output_type": "display_data"
    },
    {
     "data": {
      "application/vnd.jupyter.widget-view+json": {
       "model_id": "28ff639b945743989fe2c27aedda06af",
       "version_major": 2,
       "version_minor": 0
      },
      "text/plain": [
       "Label(value='  ', layout=Layout(width='100%'))"
      ]
     },
     "metadata": {},
     "output_type": "display_data"
    },
    {
     "data": {
      "application/vnd.jupyter.widget-view+json": {
       "model_id": "2304af98ffb6495f81413195cb554d5b",
       "version_major": 2,
       "version_minor": 0
      },
      "text/plain": [
       "HTML(value='<h3><left>Set a description for categorical feature value(s):</left></h3>\\n            We consider…"
      ]
     },
     "metadata": {},
     "output_type": "display_data"
    },
    {
     "data": {
      "application/vnd.jupyter.widget-view+json": {
       "model_id": "1dc54f30cce245bfbbe80ccfbf4fb79b",
       "version_major": 2,
       "version_minor": 0
      },
      "text/plain": [
       "GridBox(children=(HTML(value='\\n            <font style=\"font-family:sans-serif; font-size:15px;color:grey;\">\\…"
      ]
     },
     "metadata": {},
     "output_type": "display_data"
    },
    {
     "data": {
      "application/vnd.jupyter.widget-view+json": {
       "model_id": "28ff639b945743989fe2c27aedda06af",
       "version_major": 2,
       "version_minor": 0
      },
      "text/plain": [
       "Label(value='  ', layout=Layout(width='100%'))"
      ]
     },
     "metadata": {},
     "output_type": "display_data"
    },
    {
     "data": {
      "application/vnd.jupyter.widget-view+json": {
       "model_id": "034d8482b0db4eca9b6654cec06f8bf5",
       "version_major": 2,
       "version_minor": 0
      },
      "text/plain": [
       "GridBox(children=(HTML(value='\\n            <h3><left>Identify the privileged group for each protected feature…"
      ]
     },
     "metadata": {},
     "output_type": "display_data"
    },
    {
     "data": {
      "application/vnd.jupyter.widget-view+json": {
       "model_id": "abada7447b64473a9e781d41ea5bc71d",
       "version_major": 2,
       "version_minor": 0
      },
      "text/plain": [
       "GridBox(children=(HTML(value='\\n            <font style=\"font-family:sans-serif; font-size:15px;color:grey;\">\\…"
      ]
     },
     "metadata": {},
     "output_type": "display_data"
    },
    {
     "data": {
      "application/vnd.jupyter.widget-view+json": {
       "model_id": "28ff639b945743989fe2c27aedda06af",
       "version_major": 2,
       "version_minor": 0
      },
      "text/plain": [
       "Label(value='  ', layout=Layout(width='100%'))"
      ]
     },
     "metadata": {},
     "output_type": "display_data"
    },
    {
     "data": {
      "application/vnd.jupyter.widget-view+json": {
       "model_id": "5d68fdb30855447c955d966e65acac0c",
       "version_major": 2,
       "version_minor": 0
      },
      "text/plain": [
       "GridBox(children=(HTML(value='\\n            <h3><left>Review and reflect upon the sample in terms of protected…"
      ]
     },
     "metadata": {},
     "output_type": "display_data"
    },
    {
     "data": {
      "application/vnd.jupyter.widget-view+json": {
       "model_id": "52171a57e74749afa31906c456841700",
       "version_major": 2,
       "version_minor": 0
      },
      "text/plain": [
       "GridBox(children=(HTML(value='\\n            <font style=\"font-family:sans-serif; font-size:15px;color:grey;\">\\…"
      ]
     },
     "metadata": {},
     "output_type": "display_data"
    },
    {
     "data": {
      "application/vnd.jupyter.widget-view+json": {
       "model_id": "28ff639b945743989fe2c27aedda06af",
       "version_major": 2,
       "version_minor": 0
      },
      "text/plain": [
       "Label(value='  ', layout=Layout(width='100%'))"
      ]
     },
     "metadata": {},
     "output_type": "display_data"
    },
    {
     "data": {
      "application/vnd.jupyter.widget-view+json": {
       "model_id": "c46d07e3174e4cce8c590ee9bbb4ad80",
       "version_major": 2,
       "version_minor": 0
      },
      "text/plain": [
       "GridBox(children=(HTML(value='\\n            <h3><left>Review and reflect upon the distribution of the target(y…"
      ]
     },
     "metadata": {},
     "output_type": "display_data"
    },
    {
     "data": {
      "application/vnd.jupyter.widget-view+json": {
       "model_id": "399678d1882e4ed88e2fa27b089a60b8",
       "version_major": 2,
       "version_minor": 0
      },
      "text/plain": [
       "GridBox(children=(HTML(value='\\n            <font style=\"font-family:sans-serif; font-size:15px;color:grey;\">\\…"
      ]
     },
     "metadata": {},
     "output_type": "display_data"
    },
    {
     "data": {
      "application/vnd.jupyter.widget-view+json": {
       "model_id": "28ff639b945743989fe2c27aedda06af",
       "version_major": 2,
       "version_minor": 0
      },
      "text/plain": [
       "Label(value='  ', layout=Layout(width='100%'))"
      ]
     },
     "metadata": {},
     "output_type": "display_data"
    },
    {
     "data": {
      "application/vnd.jupyter.widget-view+json": {
       "model_id": "2b4a1796b8d247658246dd3e2cfeb7f3",
       "version_major": 2,
       "version_minor": 0
      },
      "text/plain": [
       "GridBox(children=(HTML(value='<h3><left>Input feature analysis:</left></h3>\\n            <font style = \"color:…"
      ]
     },
     "metadata": {},
     "output_type": "display_data"
    },
    {
     "data": {
      "application/vnd.jupyter.widget-view+json": {
       "model_id": "0d3a5f94570a497d901be102bdd0da5e",
       "version_major": 2,
       "version_minor": 0
      },
      "text/plain": [
       "GridBox(children=(HTML(value='<font style=\"font-family:sans-serif; font-size:15px;color:grey;\">\\n            T…"
      ]
     },
     "metadata": {},
     "output_type": "display_data"
    },
    {
     "data": {
      "application/vnd.jupyter.widget-view+json": {
       "model_id": "28ff639b945743989fe2c27aedda06af",
       "version_major": 2,
       "version_minor": 0
      },
      "text/plain": [
       "Label(value='  ', layout=Layout(width='100%'))"
      ]
     },
     "metadata": {},
     "output_type": "display_data"
    },
    {
     "data": {
      "application/vnd.jupyter.widget-view+json": {
       "model_id": "885333b740154e5ca037ebdcdce0b396",
       "version_major": 2,
       "version_minor": 0
      },
      "text/plain": [
       "HTML(value='<h3><left>Optionally drop input features based on analysis:</left></h3>')"
      ]
     },
     "metadata": {},
     "output_type": "display_data"
    },
    {
     "data": {
      "application/vnd.jupyter.widget-view+json": {
       "model_id": "5afb71cfb4574e5e9af65010ac9688e5",
       "version_major": 2,
       "version_minor": 0
      },
      "text/plain": [
       "GridBox(children=(SelectMultiple(description='Features', layout=Layout(grid_area='topl', width='auto'), option…"
      ]
     },
     "metadata": {},
     "output_type": "display_data"
    },
    {
     "data": {
      "application/vnd.jupyter.widget-view+json": {
       "model_id": "f5b242faca7b4953973205ea94a13d12",
       "version_major": 2,
       "version_minor": 0
      },
      "text/plain": [
       "Output()"
      ]
     },
     "metadata": {},
     "output_type": "display_data"
    },
    {
     "data": {
      "application/vnd.jupyter.widget-view+json": {
       "model_id": "28ff639b945743989fe2c27aedda06af",
       "version_major": 2,
       "version_minor": 0
      },
      "text/plain": [
       "Label(value='  ', layout=Layout(width='100%'))"
      ]
     },
     "metadata": {},
     "output_type": "display_data"
    },
    {
     "data": {
      "application/vnd.jupyter.widget-view+json": {
       "model_id": "01339fe941944456ba679127f6a374cf",
       "version_major": 2,
       "version_minor": 0
      },
      "text/plain": [
       "GridBox(children=(HTML(value='\\n            <h3><left>Reflect on the input features relationship with the prot…"
      ]
     },
     "metadata": {},
     "output_type": "display_data"
    },
    {
     "data": {
      "application/vnd.jupyter.widget-view+json": {
       "model_id": "469906775912456b89426253757eda24",
       "version_major": 2,
       "version_minor": 0
      },
      "text/plain": [
       "GridBox(children=(Output(layout=Layout(grid_area='top')),), layout=Layout(border='1px solid grey', grid_gap='1…"
      ]
     },
     "metadata": {},
     "output_type": "display_data"
    },
    {
     "data": {
      "application/vnd.jupyter.widget-view+json": {
       "model_id": "c552a9938a6b41c09ca71432e350dc82",
       "version_major": 2,
       "version_minor": 0
      },
      "text/plain": [
       "GridBox(children=(HTML(value='\\n            <br>\\n            <font style=\"font-family:sans-serif; font-size:1…"
      ]
     },
     "metadata": {},
     "output_type": "display_data"
    },
    {
     "data": {
      "application/vnd.jupyter.widget-view+json": {
       "model_id": "28ff639b945743989fe2c27aedda06af",
       "version_major": 2,
       "version_minor": 0
      },
      "text/plain": [
       "Label(value='  ', layout=Layout(width='100%'))"
      ]
     },
     "metadata": {},
     "output_type": "display_data"
    },
    {
     "data": {
      "application/vnd.jupyter.widget-view+json": {
       "model_id": "fd054442d5bf4202b7fdfefbee989c69",
       "version_major": 2,
       "version_minor": 0
      },
      "text/plain": [
       "HTML(value='<h3><left>Merge Categorical feature levels (unique values): </left></h3> \\n            ')"
      ]
     },
     "metadata": {},
     "output_type": "display_data"
    },
    {
     "data": {
      "application/vnd.jupyter.widget-view+json": {
       "model_id": "f9f73f5301ff44a6a44e546e875f6505",
       "version_major": 2,
       "version_minor": 0
      },
      "text/plain": [
       "GridBox(children=(HTML(value='\\n            <font style=\"font-family:sans-serif; font-size:15px;color:grey;\">\\…"
      ]
     },
     "metadata": {},
     "output_type": "display_data"
    },
    {
     "data": {
      "application/vnd.jupyter.widget-view+json": {
       "model_id": "28ff639b945743989fe2c27aedda06af",
       "version_major": 2,
       "version_minor": 0
      },
      "text/plain": [
       "Label(value='  ', layout=Layout(width='100%'))"
      ]
     },
     "metadata": {},
     "output_type": "display_data"
    },
    {
     "data": {
      "application/vnd.jupyter.widget-view+json": {
       "model_id": "41003518e94d45c8b6f1f31a715ba7fe",
       "version_major": 2,
       "version_minor": 0
      },
      "text/plain": [
       "HTML(value='<h3><left>Label-Encode <b>Ordinal</b> categorical features: </left></h3>\\n            Categorical …"
      ]
     },
     "metadata": {},
     "output_type": "display_data"
    },
    {
     "data": {
      "application/vnd.jupyter.widget-view+json": {
       "model_id": "a13916701f53421da590bd0a6b67a110",
       "version_major": 2,
       "version_minor": 0
      },
      "text/plain": [
       "GridBox(children=(HTML(value='\\n            <font style=\"font-family:sans-serif; font-size:15px;color:grey;\">\\…"
      ]
     },
     "metadata": {},
     "output_type": "display_data"
    },
    {
     "data": {
      "application/vnd.jupyter.widget-view+json": {
       "model_id": "28ff639b945743989fe2c27aedda06af",
       "version_major": 2,
       "version_minor": 0
      },
      "text/plain": [
       "Label(value='  ', layout=Layout(width='100%'))"
      ]
     },
     "metadata": {},
     "output_type": "display_data"
    },
    {
     "data": {
      "application/vnd.jupyter.widget-view+json": {
       "model_id": "d42f917f88d244cb9e2f4c79231ca679",
       "version_major": 2,
       "version_minor": 0
      },
      "text/plain": [
       "HTML(value='<h3><left>One-Hot-Encode <b>Nominal</b> categorical features: </left></h3>\\n            Categorica…"
      ]
     },
     "metadata": {},
     "output_type": "display_data"
    },
    {
     "data": {
      "application/vnd.jupyter.widget-view+json": {
       "model_id": "9d19e7341ad3418f92215fbe5ade6b88",
       "version_major": 2,
       "version_minor": 0
      },
      "text/plain": [
       "GridBox(children=(HTML(value='\\n            <font style=\"font-family:sans-serif; font-size:15px;color:grey;\">\\…"
      ]
     },
     "metadata": {},
     "output_type": "display_data"
    },
    {
     "data": {
      "application/vnd.jupyter.widget-view+json": {
       "model_id": "28ff639b945743989fe2c27aedda06af",
       "version_major": 2,
       "version_minor": 0
      },
      "text/plain": [
       "Label(value='  ', layout=Layout(width='100%'))"
      ]
     },
     "metadata": {},
     "output_type": "display_data"
    },
    {
     "data": {
      "application/vnd.jupyter.widget-view+json": {
       "model_id": "feb52c58a93045c78a9665db173a7a46",
       "version_major": 2,
       "version_minor": 0
      },
      "text/plain": [
       "HTML(value='<h3><left>Scale/Normalise numeric input features: </left></h3>')"
      ]
     },
     "metadata": {},
     "output_type": "display_data"
    },
    {
     "data": {
      "application/vnd.jupyter.widget-view+json": {
       "model_id": "f51d273efcd04105830438ade0590c0f",
       "version_major": 2,
       "version_minor": 0
      },
      "text/plain": [
       "GridBox(children=(HTML(value='\\n            <font style=\"font-family:sans-serif; font-size:15px;color:grey;\">\\…"
      ]
     },
     "metadata": {},
     "output_type": "display_data"
    },
    {
     "data": {
      "application/vnd.jupyter.widget-view+json": {
       "model_id": "0b88401cb484488a90a17c3230be3022",
       "version_major": 2,
       "version_minor": 0
      },
      "text/plain": [
       "HTML(value='<h3><left>Save transformed data to file.</left></h3>')"
      ]
     },
     "metadata": {},
     "output_type": "display_data"
    },
    {
     "data": {
      "application/vnd.jupyter.widget-view+json": {
       "model_id": "3420fa53ed2544ba907725159953573d",
       "version_major": 2,
       "version_minor": 0
      },
      "text/plain": [
       "Output()"
      ]
     },
     "metadata": {},
     "output_type": "display_data"
    }
   ],
   "source": [
    "#For any rendering issue with plotly, eg browser freeze.. see https://github.com/jupyterlab/jupyter-renderers/issues/165\n",
    "dpUI = data_pre_process_UI()\n",
    "dpUI.render()\n",
    "\n"
   ]
  },
  {
   "cell_type": "code",
   "execution_count": 212,
   "metadata": {
    "ExecuteTime": {
     "end_time": "2020-08-19T21:19:34.819563Z",
     "start_time": "2020-08-19T21:19:34.775819Z"
    }
   },
   "outputs": [
    {
     "data": {
      "text/html": [
       "<div>\n",
       "<style scoped>\n",
       "    .dataframe tbody tr th:only-of-type {\n",
       "        vertical-align: middle;\n",
       "    }\n",
       "\n",
       "    .dataframe tbody tr th {\n",
       "        vertical-align: top;\n",
       "    }\n",
       "\n",
       "    .dataframe thead th {\n",
       "        text-align: right;\n",
       "    }\n",
       "</style>\n",
       "<table border=\"1\" class=\"dataframe\">\n",
       "  <thead>\n",
       "    <tr style=\"text-align: right;\">\n",
       "      <th></th>\n",
       "      <th>LSAT</th>\n",
       "      <th>UGPA</th>\n",
       "      <th>region_first</th>\n",
       "      <th>sander_index</th>\n",
       "    </tr>\n",
       "  </thead>\n",
       "  <tbody>\n",
       "    <tr>\n",
       "      <th>0</th>\n",
       "      <td>39.0</td>\n",
       "      <td>3.1</td>\n",
       "      <td>GL</td>\n",
       "      <td>0.782738</td>\n",
       "    </tr>\n",
       "    <tr>\n",
       "      <th>1</th>\n",
       "      <td>36.0</td>\n",
       "      <td>3.0</td>\n",
       "      <td>GL</td>\n",
       "      <td>0.735714</td>\n",
       "    </tr>\n",
       "    <tr>\n",
       "      <th>2</th>\n",
       "      <td>30.0</td>\n",
       "      <td>3.1</td>\n",
       "      <td>MS</td>\n",
       "      <td>0.670238</td>\n",
       "    </tr>\n",
       "    <tr>\n",
       "      <th>3</th>\n",
       "      <td>39.0</td>\n",
       "      <td>2.2</td>\n",
       "      <td>NE</td>\n",
       "      <td>0.697024</td>\n",
       "    </tr>\n",
       "    <tr>\n",
       "      <th>4</th>\n",
       "      <td>37.0</td>\n",
       "      <td>3.4</td>\n",
       "      <td>GL</td>\n",
       "      <td>0.786310</td>\n",
       "    </tr>\n",
       "  </tbody>\n",
       "</table>\n",
       "</div>"
      ],
      "text/plain": [
       "   LSAT  UGPA region_first  sander_index\n",
       "0  39.0   3.1           GL      0.782738\n",
       "1  36.0   3.0           GL      0.735714\n",
       "2  30.0   3.1           MS      0.670238\n",
       "3  39.0   2.2           NE      0.697024\n",
       "4  37.0   3.4           GL      0.786310"
      ]
     },
     "metadata": {},
     "output_type": "display_data"
    }
   ],
   "source": [
    "display (dpUI.non_protected_feature_set_df.head())"
   ]
  },
  {
   "cell_type": "markdown",
   "metadata": {},
   "source": [
    "# Apply Any further transformations not supported by the GUI\n",
    "- Do not delete any of the columns created by the GUI pricess"
   ]
  },
  {
   "cell_type": "markdown",
   "metadata": {
    "ExecuteTime": {
     "end_time": "2020-06-08T14:44:44.295296Z",
     "start_time": "2020-06-08T14:44:44.039182Z"
    }
   },
   "source": [
    "# Review the transformed dataset (input features and label data)\n",
    "\n",
    "once the data has been transformed and the transformed data is saved we can now train a model\n",
    "\n",
    "We will read the transformed data frame and the data_summary which contains details of the transform and information on which features to use to train the model.\n"
   ]
  },
  {
   "cell_type": "code",
   "execution_count": 34,
   "metadata": {
    "ExecuteTime": {
     "end_time": "2020-08-17T16:50:16.422616Z",
     "start_time": "2020-08-17T16:50:16.048739Z"
    },
    "scrolled": true
   },
   "outputs": [
    {
     "data": {
      "text/html": [
       "<b>Values saved in data_summary</b> <br>  \n",
       "        data_summary.renamed <br>\n",
       "        data_summary.referenceNames<br>\n",
       "        data_summary.label_encoding_dict<br>\n",
       "        data_summary.oh_encoding_dict<br>\n",
       "        data_summary.df_url<br>\n",
       "        data_summary.y_value<br>\n",
       "        data_summary.Y_BINARY<br>\n",
       "        data_summary.Y_CONTINUOUS<br>\n",
       "        data_summary.HIGH_RANGE_POSITIVE<br>\n",
       "        data_summary.protected_x<br>\n",
       "        data_summary.non_protected_x<br>\n",
       "        data_summary.all_columns_in_x<br>\n",
       "        data_summary.proxyAttributes<br>\n",
       "        data_summary.MLAttributes<br>\n",
       "        data_summary.html"
      ],
      "text/plain": [
       "<IPython.core.display.HTML object>"
      ]
     },
     "metadata": {},
     "output_type": "display_data"
    },
    {
     "name": "stdout",
     "output_type": "stream",
     "text": [
      "Number of samples in dataset:  21791\n",
      "Output to predict:  ZFYA\n",
      "Output is continuous:  True\n",
      "Output is binary:  False\n",
      "Num of unique outputs:  568\n",
      "Min output:  -3.35\n",
      "Max output:  3.48\n",
      "High output range is positive?  True\n",
      "\n",
      "Protected input features ['gender', 'race_Amerindian', 'race_Asian', 'race_Black', 'race_Hispanic', 'race_Mexican', 'race_Other', 'race_Puertorican', 'race_White']\n",
      "Other input features ['LSAT', 'UGPA', 'sander_index', 'first_pf', 'region_first_FW', 'region_first_GL', 'region_first_MS', 'region_first_MW', 'region_first_Mt', 'region_first_NE', 'region_first_NG', 'region_first_NW', 'region_first_PO', 'region_first_SC', 'region_first_SE']\n",
      "\n",
      "Summary of Data transformation per input feature:\n",
      "************\n",
      "race\n"
     ]
    },
    {
     "data": {
      "text/html": [
       "Feature: 'race' has been One-Hot encoded<br>race_Amerindian<br>race_Asian<br>race_Black<br>race_Hispanic<br>race_Mexican<br>race_Other<br>race_Puertorican<br>race_White<br>"
      ],
      "text/plain": [
       "<IPython.core.display.HTML object>"
      ]
     },
     "metadata": {},
     "output_type": "display_data"
    },
    {
     "name": "stdout",
     "output_type": "stream",
     "text": [
      "************\n",
      "gender\n"
     ]
    },
    {
     "data": {
      "text/html": [
       "Feature: 'gender' has some descriptions saved<br>{1: 'female', 2: 'male'}<br>Feature: 'gender' has been Label encoded<br>{1: 0, 2: 1}<br>"
      ],
      "text/plain": [
       "<IPython.core.display.HTML object>"
      ]
     },
     "metadata": {},
     "output_type": "display_data"
    },
    {
     "name": "stdout",
     "output_type": "stream",
     "text": [
      "************\n",
      "region_first\n"
     ]
    },
    {
     "data": {
      "text/html": [
       "Feature: 'region_first' has been One-Hot encoded<br>region_first_FW<br>region_first_GL<br>region_first_MS<br>region_first_MW<br>region_first_Mt<br>region_first_NE<br>region_first_NG<br>region_first_NW<br>region_first_PO<br>region_first_SC<br>region_first_SE<br>"
      ],
      "text/plain": [
       "<IPython.core.display.HTML object>"
      ]
     },
     "metadata": {},
     "output_type": "display_data"
    },
    {
     "name": "stdout",
     "output_type": "stream",
     "text": [
      "************\n",
      "first_pf\n"
     ]
    },
    {
     "data": {
      "text/html": [
       "Feature: 'first_pf' has some descriptions saved<br>{1: 'pass', 0: 'fail'}<br>"
      ],
      "text/plain": [
       "<IPython.core.display.HTML object>"
      ]
     },
     "metadata": {},
     "output_type": "display_data"
    },
    {
     "name": "stdout",
     "output_type": "stream",
     "text": [
      "\n"
     ]
    },
    {
     "ename": "AttributeError",
     "evalue": "'file_data' object has no attribute 'proxyAttributes'",
     "output_type": "error",
     "traceback": [
      "\u001b[0;31m---------------------------------------------------------------------------\u001b[0m",
      "\u001b[0;31mAttributeError\u001b[0m                            Traceback (most recent call last)",
      "\u001b[0;32m<ipython-input-34-523f5e33e79e>\u001b[0m in \u001b[0;36m<module>\u001b[0;34m\u001b[0m\n\u001b[1;32m      6\u001b[0m data_frame, data_summary = helper_method.reload_data (pickle_path, \n\u001b[1;32m      7\u001b[0m                                                       \u001b[0mdata_frame_path\u001b[0m\u001b[0;34m,\u001b[0m\u001b[0;34m\u001b[0m\u001b[0;34m\u001b[0m\u001b[0m\n\u001b[0;32m----> 8\u001b[0;31m                                                       print_report = True)\n\u001b[0m\u001b[1;32m      9\u001b[0m \u001b[0;31m# Reload the file\u001b[0m\u001b[0;34m\u001b[0m\u001b[0;34m\u001b[0m\u001b[0;34m\u001b[0m\u001b[0m\n",
      "\u001b[0;32m<ipython-input-32-6bf892d6b381>\u001b[0m in \u001b[0;36mreload_data\u001b[0;34m(self, pickle_path, data_frame_path, print_report)\u001b[0m\n\u001b[1;32m   2038\u001b[0m \u001b[0;34m\u001b[0m\u001b[0m\n\u001b[1;32m   2039\u001b[0m             \u001b[0mprint\u001b[0m \u001b[0;34m(\u001b[0m\u001b[0;34m\"\"\u001b[0m\u001b[0;34m)\u001b[0m\u001b[0;34m\u001b[0m\u001b[0;34m\u001b[0m\u001b[0m\n\u001b[0;32m-> 2040\u001b[0;31m             \u001b[0mprint\u001b[0m \u001b[0;34m(\u001b[0m\u001b[0;34m\"Input Features identified as possible proxies to protected Features: \"\u001b[0m\u001b[0;34m,\u001b[0m \u001b[0mdata_summary\u001b[0m\u001b[0;34m.\u001b[0m\u001b[0mproxyAttributes\u001b[0m\u001b[0;34m)\u001b[0m\u001b[0;34m\u001b[0m\u001b[0;34m\u001b[0m\u001b[0m\n\u001b[0m\u001b[1;32m   2041\u001b[0m             \u001b[0mprint\u001b[0m \u001b[0;34m(\u001b[0m\u001b[0;34m\"\"\u001b[0m\u001b[0;34m)\u001b[0m\u001b[0;34m\u001b[0m\u001b[0;34m\u001b[0m\u001b[0m\n\u001b[1;32m   2042\u001b[0m             \u001b[0mprint\u001b[0m \u001b[0;34m(\u001b[0m\u001b[0;34m\"Input Features identified as possibly output from another ML Model: \"\u001b[0m\u001b[0;34m,\u001b[0m \u001b[0mdata_summary\u001b[0m\u001b[0;34m.\u001b[0m\u001b[0mMLAttributes\u001b[0m\u001b[0;34m)\u001b[0m\u001b[0;34m\u001b[0m\u001b[0;34m\u001b[0m\u001b[0m\n",
      "\u001b[0;31mAttributeError\u001b[0m: 'file_data' object has no attribute 'proxyAttributes'"
     ]
    }
   ],
   "source": [
    "helper_method = helper_methods()\n",
    "pickle_path = \"/Users/aideenf/Documents/GitHub/Thesis_Aideen/Main/Data/transformed_data_2.csv_summary.pickle\"\n",
    "data_frame_path = \"/Users/aideenf/Documents/GitHub/Thesis_Aideen/Main/Data/transformed_data_2.csv\"\n",
    "\n",
    "# Reload the file\n",
    "data_frame, data_summary = helper_method.reload_data (pickle_path, \n",
    "                                                      data_frame_path, \n",
    "                                                      print_report = True)\n",
    "# Reload the file"
   ]
  },
  {
   "cell_type": "markdown",
   "metadata": {
    "ExecuteTime": {
     "end_time": "2020-06-09T09:33:55.309545Z",
     "start_time": "2020-06-09T09:33:54.004485Z"
    }
   },
   "source": [
    "# Review the training/test data to set positive and negative(Binary) output ranges for Logistic Regression.\n",
    "\n",
    "Select the decision boundary between a positive and negative outcome of a continuous target variable, for the purpose of logistic regression."
   ]
  },
  {
   "cell_type": "code",
   "execution_count": null,
   "metadata": {
    "ExecuteTime": {
     "end_time": "2020-08-12T12:53:16.768413Z",
     "start_time": "2020-08-12T12:53:16.736538Z"
    },
    "scrolled": true
   },
   "outputs": [],
   "source": [
    "helper_method.view_protected(data_summary.protected_x, \n",
    "                             data_summary.y_value, \n",
    "                             data_frame, _w=600, _h=600, \n",
    "                             y_high_positive = data_summary.HIGH_RANGE_POSITIVE,\n",
    "                             persist_impact_col = True,\n",
    "                             output_type_binary = data_summary.Y_BINARY)\n"
   ]
  },
  {
   "cell_type": "code",
   "execution_count": null,
   "metadata": {
    "ExecuteTime": {
     "end_time": "2020-06-22T20:47:30.964115Z",
     "start_time": "2020-06-22T20:47:30.841652Z"
    },
    "scrolled": false
   },
   "outputs": [],
   "source": [
    "display (data_frame.head())"
   ]
  },
  {
   "cell_type": "markdown",
   "metadata": {},
   "source": [
    "# Prepare transformed data for model training\n",
    "- using the data summary as input the y value and appropriate X values will be returned\n",
    "- Specify here if wany to imclude the protected data in the training or not. include_protected = True or False\n",
    "- Right now we can only specify to include all protected, or none(True/False). If you only want to include some protected input features use include_protected = True, then drop the columns from the returned 'X' AND also drop the column from array data_summary.protected_column_list"
   ]
  },
  {
   "cell_type": "code",
   "execution_count": null,
   "metadata": {
    "ExecuteTime": {
     "end_time": "2020-06-22T20:47:44.042913Z",
     "start_time": "2020-06-22T20:47:43.926952Z"
    },
    "scrolled": false
   },
   "outputs": [],
   "source": [
    "use_transformed = True\n",
    "if use_transformed == True:\n",
    "    data_summary.y_value = \"Transformed_\" + data_summary.y_value\n",
    "\n",
    "'''library Helper method\n",
    "input the data_frame, the data_summary generated from reviewing the data or set independently.\n",
    "'''\n",
    "X, y, feature_columns = helper_method.get_train_test_split_data(data_frame, \n",
    "                                                                data_summary, \n",
    "                                                                include_protected = True\n",
    "                                                               )\n",
    "'''************'''\n"
   ]
  },
  {
   "cell_type": "markdown",
   "metadata": {},
   "source": [
    "#  Create train/test split + SkLearn Logistic Regression+Return probability score. \n",
    "once we have created the model we have the logistic regression prediction probability, so that each individual I has a probability pᵢ to fall into category A, and q = 1-p to fall into category B\n",
    "\n",
    " Less formally, it can be thought of as a model for the set of possible outcomes of any single data row that asks a yes–no question. Such questions lead to outcomes that are boolean-valued: a single bit whose value is success/yes/true/one with probability p and failure/no/false/zero with probability q = 1 -p. All successful outcomes may then be ranked by probability score inorder to obtain an ordered list.\n",
    " \n",
    " Logistic regression is a machine learning model that uses a logistic function to model a binary dependent variable. Although there are better models in terms of performance (a.o. boosting methods, random forest, deep neural networks), logistic regression provides coefficients which are very easy to interpret. As this is an important feature for demonstration purposes, logistic regression is used here.\n",
    "\n"
   ]
  },
  {
   "cell_type": "code",
   "execution_count": null,
   "metadata": {
    "ExecuteTime": {
     "end_time": "2020-06-22T20:47:53.693780Z",
     "start_time": "2020-06-22T20:47:49.728814Z"
    },
    "scrolled": true
   },
   "outputs": [],
   "source": [
    "#from sklearn.linear_model import LogisticRegressionCV\n",
    "# clf = LogisticRegressionCV(cv=5, solver = \"liblinear\", random_state=0, max_iter = 5000).fit(X_train, y_train)\n",
    "# \"\"\"\n",
    "# Set up the logistic regression model\n",
    "# \"\"\"\n",
    "from sklearn.metrics import classification_report\n",
    "X_train, X_test, y_train, y_test = train_test_split(X, y,\n",
    "                                                    random_state=0, \n",
    "                                                    test_size = 0.20)\n",
    "\n",
    "logistic_reg_model = LogisticRegression(solver = \"liblinear\", verbose = 1, random_state=0, max_iter = 1000).fit(X_train[feature_columns], y_train)\n",
    "print (\"Train Accuracy score: \", logistic_reg_model.score(X_train[feature_columns], y_train))\n",
    "logistic_reg_y_train_pred = logistic_reg_model.predict(X_train[feature_columns])\n",
    "logistic_reg_y_train_pred_prob = logistic_reg_model.predict_proba(X_train[feature_columns])\n",
    "print(classification_report(y_train, logistic_reg_y_train_pred))\n",
    "print (\"\")\n",
    "print (\"Test Accuracy score: \", logistic_reg_model.score(X_test[feature_columns], y_test))\n",
    "logistic_reg_y_test_pred = logistic_reg_model.predict(X_test[feature_columns])\n",
    "logistic_reg_y_test_pred_prob = logistic_reg_model.predict_proba(X_test[feature_columns])\n",
    "print(classification_report(y_test, logistic_reg_y_test_pred))\n",
    "\n",
    "\n",
    "def get_probability_y_actual(y_actual, y_prob):\n",
    "    y_actual_prob = []\n",
    "    y_prob_1 = []\n",
    "    for y_a, y_p, i in zip(y_actual, y_prob, range(len(y_actual))):\n",
    "        if y_a == 0:\n",
    "            y_actual_prob.append(y_prob[i][0])\n",
    "            y_prob_1.append(y_prob[i][1])\n",
    "        else:\n",
    "            y_actual_prob.append(y_prob[i][1])\n",
    "            y_prob_1.append(y_prob[i][1])\n",
    "    return y_actual_prob, y_prob_1\n",
    "\n",
    "\n",
    "y_train_pred_prob, y_train_pred_prob_1 = get_probability_y_actual(y_train, logistic_reg_y_train_pred_prob)\n",
    "y_test_pred_prob, y_test_pred_prob_1 = get_probability_y_actual(y_test, logistic_reg_y_test_pred_prob)\n",
    "\n",
    "\n",
    "helper_method.visualise_RMSE_model_eval(y_train, y_test, y_train_pred_prob, y_test_pred_prob)"
   ]
  },
  {
   "cell_type": "markdown",
   "metadata": {
    "ExecuteTime": {
     "end_time": "2020-06-16T11:08:04.971000Z",
     "start_time": "2020-06-16T11:08:04.547354Z"
    }
   },
   "source": [
    "# Analise with Aequitas\n",
    "\n",
    "https://towardsdatascience.com/a-tutorial-on-fairness-in-machine-learning-3ff8ba1040cb\n",
    "https://arxiv.org/pdf/1908.00176.pdf\n",
    "https://5harad.com/papers/fair-ml.pdf\n"
   ]
  },
  {
   "cell_type": "code",
   "execution_count": null,
   "metadata": {
    "ExecuteTime": {
     "end_time": "2020-06-22T20:48:13.334566Z",
     "start_time": "2020-06-22T20:48:04.410301Z"
    }
   },
   "outputs": [],
   "source": [
    "# print (data_summary.renamed)\n",
    "# print (data_summary.referenceNames)\n",
    "# print(data_summary.encoding_dict)\n",
    "\n",
    "#Retrieve only the protected attributes\n",
    "focus_on_cols = helper_method.get_protected(data_summary)\n",
    "\n",
    "'''For additional granularity retrieve all versions of the protected attributes\n",
    "(before encoding and before values merged)'''\n",
    "# focus_on_cols_benc = helper_method.get_protected_before_transform(data_summary)\n",
    "\n",
    "\n",
    "# data_summary.non_protected_x\n",
    "# data_summary.y_value\n",
    "\n",
    "helper_method.view_aequitas_fairness_metrics(data_summary.y_value ,\n",
    "                                       focus_on_cols,\n",
    "                                       X_train, \n",
    "                                       y_train, \n",
    "                                       logistic_reg_y_train_pred,\n",
    "                                       _w=600, _h=600, \n",
    "                                       y_high_positive = True,\n",
    "                                        )"
   ]
  },
  {
   "cell_type": "markdown",
   "metadata": {},
   "source": [
    "# Shap interpretability\n",
    "https://shap.readthedocs.io/en/latest/#\n",
    "https://towardsdatascience.com/explain-any-models-with-the-shap-values-use-the-kernelexplainer-79de9464897a\n",
    "https://github.com/Rakeshsuku/Medium-Blog/blob/master/Kernel_SHAP.ipynb\n",
    "https://github.com/slundberg/shap/blob/master/README.md\n"
   ]
  },
  {
   "cell_type": "code",
   "execution_count": null,
   "metadata": {
    "ExecuteTime": {
     "end_time": "2020-06-22T21:47:57.372230Z",
     "start_time": "2020-06-22T20:56:03.137302Z"
    },
    "scrolled": true
   },
   "outputs": [],
   "source": [
    "explainer, shap_values, x = helper_method.prepare_to_shap(X_train[feature_columns], 500, save_to_path = './')"
   ]
  },
  {
   "cell_type": "code",
   "execution_count": null,
   "metadata": {
    "ExecuteTime": {
     "end_time": "2020-06-22T22:29:00.567991Z",
     "start_time": "2020-06-22T22:28:59.586447Z"
    }
   },
   "outputs": [],
   "source": [
    "shap_path = \"/Users/aideenf/Documents/GitHub/Thesis_Aideen/Main\"\n",
    "# Reload the file\n",
    "shap_values, explainer, x =  helper_method.reload_shap_data (shap_path)\n",
    "# Reload the file\n",
    "\n",
    "display (x.head())"
   ]
  },
  {
   "cell_type": "code",
   "execution_count": null,
   "metadata": {
    "ExecuteTime": {
     "end_time": "2020-06-22T22:29:10.141833Z",
     "start_time": "2020-06-22T22:29:05.899126Z"
    },
    "scrolled": true
   },
   "outputs": [],
   "source": [
    "helper_method.shap_analysis(shap_values, explainer, x, data_summary)\n",
    "\n",
    "# data_summary.protected_x \n",
    "# data_summary.non_protected_x\n",
    "# data_summary.y_value\n",
    "# y_high_positive = data_summary.HIGH_RANGE_POSITIVE\n",
    "# persist_impact_col = True\n",
    "# output_type_binary = data_summary.Y_BINARY\n",
    "\n"
   ]
  },
  {
   "cell_type": "markdown",
   "metadata": {},
   "source": [
    "# Ranking Fairness\n",
    "We will rank the results based on the probability of a positive outcome.\n",
    "\n",
    "Notes \"Fairness is a complex concept, with a number of different possible definitions. \n",
    "We consider group fairness with respect to membership in a protected group, based, \n",
    "for example, on minority race or underrepresented gender, where group membership is \n",
    "readily ascertained by looking at an attribute value. For a given rank cut-off point k, \n",
    "we wish to ensure that the number of protected group members ranked among the top-$k$ is \n",
    "proportional to their representation in the entire population, or to their desired proportion\n",
    "in the output (as is the case in affirmative action interventions).\"\n",
    "\n",
    "\n",
    "To-Do\n",
    "#Create new protected attributes based on a combination of the other protected \n",
    "            #attributes so for example if you belong to the protected Group A of Attribute A\n",
    "            #and protected grouo B of attribute B then you are in a double protected group\n",
    "            #In order to achieve this we must provide the possibility of identifying \n",
    "            #the protected group for each protected attribute.\n",
    "            \n",
    "            #df['multi_protected'] = df.apply(lambda row: row.a and row.b, axis=1) "
   ]
  },
  {
   "cell_type": "code",
   "execution_count": null,
   "metadata": {
    "ExecuteTime": {
     "end_time": "2020-06-22T22:29:50.949659Z",
     "start_time": "2020-06-22T22:29:50.726329Z"
    },
    "scrolled": false
   },
   "outputs": [],
   "source": [
    "y_pred_prob = y_train_pred_prob\n",
    "y_pred_prob_1 =  y_train_pred_prob_1\n",
    "_y = y_train\n",
    "_X = X_train\n",
    "\n",
    "pd.set_option(\"display.precision\", 10)\n",
    "y_predicted_df = pd.DataFrame(y_pred_prob_1).rename(columns={0: \"Predicted\"})\n",
    "\n",
    "\n",
    "df_for_ranking = _X.reset_index(drop=True)\n",
    "df_for_ranking = df_for_ranking.merge(y_predicted_df, left_index=True, right_index=True)\n",
    "ranked_df = df_for_ranking.sort_values(by ='Predicted',  ascending=False )\n",
    "del df_for_ranking\n",
    "display(ranked_df.head(5))\n",
    "print (ranked_df.shape)\n",
    "print (\"High ranking has positive outcome: \", data_summary.HIGH_RANGE_POSITIVE)\n"
   ]
  },
  {
   "cell_type": "code",
   "execution_count": null,
   "metadata": {
    "ExecuteTime": {
     "end_time": "2020-06-16T21:00:48.381188Z",
     "start_time": "2020-06-16T21:00:43.776064Z"
    },
    "scrolled": true
   },
   "outputs": [],
   "source": [
    "display (HTML('''<b>Values saved in data_summary</b> <br>  \n",
    "        data_summary.renamed <br>\n",
    "        data_summary.referenceNames<br>\n",
    "        data_summary.encoding_dict<br>\n",
    "        data_summary.df_url<br>\n",
    "        data_summary.y_value<br>\n",
    "        data_summary.Y_BINARY<br>\n",
    "        data_summary.Y_CONTINUOUS<br>\n",
    "        data_summary.HIGH_RANGE_POSITIVE<br>\n",
    "        data_summary.protected_x<br>\n",
    "        data_summary.non_protected_x<br>\n",
    "        data_summary.all_columns_in_x<br>\n",
    "        data_summary.proxyAttributes<br>\n",
    "        data_summary.MLAttributes<br>\n",
    "        data_summary.html'''))"
   ]
  },
  {
   "cell_type": "code",
   "execution_count": null,
   "metadata": {
    "ExecuteTime": {
     "end_time": "2020-06-22T22:29:57.918116Z",
     "start_time": "2020-06-22T22:29:57.105908Z"
    }
   },
   "outputs": [],
   "source": [
    "gc.collect()"
   ]
  },
  {
   "cell_type": "code",
   "execution_count": null,
   "metadata": {
    "ExecuteTime": {
     "end_time": "2020-06-23T02:31:45.855334Z",
     "start_time": "2020-06-23T02:31:37.698637Z"
    },
    "scrolled": true
   },
   "outputs": [],
   "source": [
    "%run ./FIR_Review_Fairness_After_Ranking.ipynb\n",
    "\n",
    "ranked_fairness = review_ranked_fairness_UI(ranked_df=ranked_df, \n",
    "                              protected_attributes=data_summary.protected_x, \n",
    "                              renamed_groups=data_summary.renamed,\n",
    "                              encoded_groups = data_summary.encoding_dict,\n",
    "                              group_names = data_summary.referenceNames,\n",
    "                              high_ranking_positive=data_summary.HIGH_RANGE_POSITIVE, \n",
    "                              )\n",
    "\n",
    "ranked_fairness.render()"
   ]
  },
  {
   "cell_type": "code",
   "execution_count": null,
   "metadata": {
    "ExecuteTime": {
     "end_time": "2020-06-22T12:44:56.641238Z",
     "start_time": "2020-06-22T12:44:01.641926Z"
    }
   },
   "outputs": [],
   "source": [
    "%reset out"
   ]
  },
  {
   "cell_type": "code",
   "execution_count": null,
   "metadata": {
    "ExecuteTime": {
     "end_time": "2020-06-22T12:45:18.305346Z",
     "start_time": "2020-06-22T12:44:58.098741Z"
    }
   },
   "outputs": [],
   "source": [
    "get_ipython().events.callbacks"
   ]
  },
  {
   "cell_type": "markdown",
   "metadata": {
    "ExecuteTime": {
     "end_time": "2020-06-08T15:48:44.821797Z",
     "start_time": "2020-06-08T15:48:44.342164Z"
    }
   },
   "source": [
    "# SkLearn Linear regression model for Ranking\n",
    "\n",
    "Remember, a linear regression model in two dimensions is a straight line; in three dimensions it is a plane, and in more than three dimensions, a hyperplane. Here we have multiple dimensions or input variables so our model will be a “multiple linear regression” or \"multivariate linear regression\". It would be possible to predict the exact FYA by making this a regression task.\n",
    "\n",
    "We should convert a pandas DataFrame into a NumPy array in order to train a machine learning model on it. \n",
    "Being careful to remove the target variable from the data before training a model.\n",
    "\n",
    "Note:Including the output variable, or some derived property of the output variable, into the feature representation is a very common mistake in building supervised machine learning models.\n",
    "\n",
    "NOTE: To train with both protected and non protected use data_summary.protected_x + data_summary.non_protected_x columns of the transformed data frame."
   ]
  },
  {
   "cell_type": "code",
   "execution_count": null,
   "metadata": {
    "ExecuteTime": {
     "end_time": "2020-06-11T00:04:54.095386Z",
     "start_time": "2020-06-11T00:04:53.873236Z"
    },
    "scrolled": true
   },
   "outputs": [],
   "source": [
    "from sklearn.metrics import classification_report\n",
    "\n",
    "linreg = LinearRegression(fit_intercept=True)\n",
    "linreg.fit(X_train, y_train)\n",
    "print (linreg.score(X_train, y_train))\n",
    "y_pred = linreg.predict(X_train)\n",
    "print (y_train[:20])\n",
    "print (\" \")\n",
    "print (y_pred[:20])\n",
    "classification_report(y_train, y_pred)"
   ]
  },
  {
   "cell_type": "markdown",
   "metadata": {},
   "source": [
    "# Keras Neural Network "
   ]
  },
  {
   "cell_type": "code",
   "execution_count": null,
   "metadata": {
    "ExecuteTime": {
     "end_time": "2020-06-17T16:03:00.936574Z",
     "start_time": "2020-06-17T16:01:06.361031Z"
    },
    "scrolled": false
   },
   "outputs": [],
   "source": [
    "from tensorflow import keras\n",
    "from keras.models import Sequential\n",
    "from keras.layers import Dense\n",
    "\n",
    "\n",
    "\n",
    "counts = y_train.value_counts()\n",
    "print (counts)\n",
    "print(\n",
    "    \"Number of positive samples in training data: {} ({:.2f}% of total)\".format(\n",
    "        counts[1], 100 * float(counts[1]) / len(y_train)\n",
    "    )\n",
    ")\n",
    "\n",
    "weight_for_0 = 1.0 / counts[0]\n",
    "weight_for_1 = 1.0 / counts[1]\n",
    "\n",
    "model = keras.Sequential(\n",
    "    [\n",
    "        keras.layers.Dense(\n",
    "            256, activation=\"relu\", input_shape=(X_train[feature_columns].shape[-1],)\n",
    "        ),\n",
    "        keras.layers.Dense(256, activation=\"relu\"),\n",
    "        keras.layers.Dropout(0.3),\n",
    "        keras.layers.Dense(256, activation=\"relu\"),\n",
    "        keras.layers.Dropout(0.3),\n",
    "        keras.layers.Dense(1, activation=\"sigmoid\"),\n",
    "    ]\n",
    ")\n",
    "model.summary()\n",
    "metrics = [\n",
    "    keras.metrics.FalseNegatives(name=\"fn\"),\n",
    "    keras.metrics.FalsePositives(name=\"fp\"),\n",
    "    keras.metrics.TrueNegatives(name=\"tn\"),\n",
    "    keras.metrics.TruePositives(name=\"tp\"),\n",
    "    keras.metrics.Precision(name=\"precision\"),\n",
    "    keras.metrics.Recall(name=\"recall\"),\n",
    "]\n",
    "\n",
    "model.compile(\n",
    "    optimizer=keras.optimizers.Adam(1e-2), loss=\"binary_crossentropy\", metrics=metrics\n",
    ")\n",
    "\n",
    "callbacks = [keras.callbacks.ModelCheckpoint(\"model_at_epoch_{epoch}.h5\")]\n",
    "class_weight = {0: weight_for_0, 1: weight_for_1}\n",
    "\n",
    "model.fit(\n",
    "    X_train[feature_columns],\n",
    "    y_train,\n",
    "    batch_size=2048,\n",
    "    epochs=50,\n",
    "    verbose=2,\n",
    "    callbacks=callbacks,\n",
    "    validation_data=(X_test[feature_columns], y_test),\n",
    "    class_weight=class_weight,\n",
    ");\n",
    "y_pred = model.predict(X_train[feature_columns])\n",
    "classification_report(y_train, y_pred)\n",
    "\n",
    "\n",
    "# ######################ALT NEURAL NW\n",
    "\n",
    "# print (X_train.columns)\n",
    "# print (y_train)\n",
    "# # Neural network with keras tutorial\n",
    "# neural_model = Sequential()\n",
    "# neural_model.add(Dense(2, input_dim=len(X_train.columns), activation='tanh'))\n",
    "# neural_model.add(Dense(2, activation='tanh'))\n",
    "# neural_model.add(Dense(1, activation='sigmoid'))\n",
    "# neural_model.compile(loss='binary_crossentropy', optimizer='adam', metrics=['accuracy'])\n",
    "# # fit the keras model on the dataset\n",
    "# neural_model.fit(X_train, y_train, epochs=150, batch_size=10)\n",
    "# # evaluate the keras model\n",
    "# _, accuracy = neural_model.evaluate(X_train, y_train)\n",
    "# print('Accuracy: %.2f' % (accuracy*100))"
   ]
  },
  {
   "cell_type": "code",
   "execution_count": null,
   "metadata": {
    "ExecuteTime": {
     "end_time": "2020-06-17T16:05:11.620716Z",
     "start_time": "2020-06-17T16:05:10.790613Z"
    },
    "scrolled": false
   },
   "outputs": [],
   "source": [
    "print (y_pred[:5])\n",
    "print(len(np.unique(np.array(y_pred))))"
   ]
  },
  {
   "cell_type": "code",
   "execution_count": null,
   "metadata": {
    "ExecuteTime": {
     "end_time": "2020-06-11T00:48:59.008292Z",
     "start_time": "2020-06-11T00:48:58.656402Z"
    },
    "scrolled": false
   },
   "outputs": [],
   "source": [
    "for i in range(len(y_pred)):\n",
    "    if y_pred[i] >.5:\n",
    "        y_pred[i] = 1\n",
    "    else:\n",
    "        y_pred[i] = 0 \n",
    "print (classification_report(y_train, y_pred))"
   ]
  },
  {
   "cell_type": "code",
   "execution_count": null,
   "metadata": {
    "ExecuteTime": {
     "end_time": "2020-06-27T11:04:53.681923Z",
     "start_time": "2020-06-27T11:04:50.295559Z"
    }
   },
   "outputs": [],
   "source": [
    "\n",
    "\n",
    "X1 = stats.norm.rvs(loc=10, scale=2, size=30, random_state=0)\n",
    "X2 = stats.norm.rvs(loc=10, scale=2, size=30, random_state=1)\n",
    "X3 = stats.norm.rvs(loc=14, scale=2, size=30, random_state=2)\n",
    "\n",
    "print(stats.ttest_ind(X1, X2))\n",
    "print(stats.ttest_ind(X1, X3))"
   ]
  },
  {
   "cell_type": "code",
   "execution_count": null,
   "metadata": {},
   "outputs": [],
   "source": []
  }
 ],
 "metadata": {
  "hide_input": false,
  "kernelspec": {
   "display_name": "Python 3",
   "language": "python",
   "name": "python3"
  },
  "language_info": {
   "codemirror_mode": {
    "name": "ipython",
    "version": 3
   },
   "file_extension": ".py",
   "mimetype": "text/x-python",
   "name": "python",
   "nbconvert_exporter": "python",
   "pygments_lexer": "ipython3",
   "version": "3.7.2"
  },
  "toc": {
   "base_numbering": 1,
   "nav_menu": {},
   "number_sections": true,
   "sideBar": true,
   "skip_h1_title": false,
   "title_cell": "Table of Contents",
   "title_sidebar": "Contents",
   "toc_cell": false,
   "toc_position": {},
   "toc_section_display": true,
   "toc_window_display": false
  },
  "varInspector": {
   "cols": {
    "lenName": "30",
    "lenType": "30",
    "lenVar": "200"
   },
   "kernels_config": {
    "python": {
     "delete_cmd_postfix": "",
     "delete_cmd_prefix": "del ",
     "library": "var_list.py",
     "varRefreshCmd": "print(var_dic_list())"
    },
    "r": {
     "delete_cmd_postfix": ") ",
     "delete_cmd_prefix": "rm(",
     "library": "var_list.r",
     "varRefreshCmd": "cat(var_dic_list()) "
    }
   },
   "types_to_exclude": [
    "module",
    "function",
    "builtin_function_or_method",
    "instance",
    "_Feature"
   ],
   "window_display": false
  }
 },
 "nbformat": 4,
 "nbformat_minor": 2
}
